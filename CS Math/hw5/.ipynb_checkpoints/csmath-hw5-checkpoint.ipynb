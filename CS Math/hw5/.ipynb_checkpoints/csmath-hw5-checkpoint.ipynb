{
 "cells": [
  {
   "cell_type": "markdown",
   "metadata": {},
   "source": [
    "## Homework 05\n",
    "#### 1. Get two class data from different 2d-gaussian model"
   ]
  },
  {
   "cell_type": "code",
   "execution_count": 1,
   "metadata": {},
   "outputs": [
    {
     "name": "stdout",
     "output_type": "stream",
     "text": [
      "data shape:  (200, 2)\n",
      "label shape:  (200,)\n"
     ]
    },
    {
     "data": {
      "image/png": "[encoded data removed]",
      "text/plain": [
       "<matplotlib.figure.Figure at 0x11233a550>"
      ]
     },
     "metadata": {},
     "output_type": "display_data"
    }
   ],
   "source": [
    "import numpy as np\n",
    "import matplotlib.pyplot as plt\n",
    "%matplotlib inline\n",
    "\n",
    "np.random.seed(3)\n",
    "data1 = np.random.multivariate_normal(mean=[4,5], cov=np.diag([0.4,0.5]), size=100)\n",
    "data2 = np.random.multivariate_normal(mean=[1,1], cov=np.diag([0.5,0.5]), size=100)\n",
    "plt.scatter(data1[:,0], data1[:,1])\n",
    "plt.scatter(data2[:,0], data2[:,1])\n",
    "data_x = np.concatenate([data1, data2])\n",
    "print('data shape: ', data_x.shape)\n",
    "data_y = np.concatenate([np.ones(data1.shape[0]), -np.ones(data2.shape[0])])\n",
    "print('label shape: ', data_y.shape)"
   ]
  },
  {
   "cell_type": "markdown",
   "metadata": {},
   "source": [
    "#### 2. Change svm to quadratic programming form, and using cvxopt library to solve"
   ]
  },
  {
   "cell_type": "code",
   "execution_count": 2,
   "metadata": {},
   "outputs": [
    {
     "name": "stdout",
     "output_type": "stream",
     "text": [
      "     pcost       dcost       gap    pres   dres\n",
      " 0: -1.7486e+01 -3.2599e+01  6e+02  2e+01  2e+00\n",
      " 1: -1.8007e+01 -1.1183e+01  2e+02  7e+00  6e-01\n",
      " 2: -6.2251e+01 -2.9867e+01  2e+02  6e+00  5e-01\n",
      " 3: -3.0293e+01 -7.5166e+00  8e+01  2e+00  2e-01\n",
      " 4: -2.5102e+00 -2.1843e+00  4e+00  9e-02  7e-03\n",
      " 5: -1.5625e+00 -1.7567e+00  2e-01  1e-15  1e-14\n",
      " 6: -1.7063e+00 -1.7086e+00  2e-03  6e-16  1e-14\n",
      " 7: -1.7080e+00 -1.7080e+00  2e-05  6e-16  1e-14\n",
      " 8: -1.7080e+00 -1.7080e+00  2e-07  4e-16  1e-14\n",
      "Optimal solution found.\n"
     ]
    }
   ],
   "source": [
    "import cvxopt\n",
    "def svm2qp(X, y):\n",
    "    # change svm to quadratic programming form for using cvxopt\n",
    "    n_samples, n_features = X.shape\n",
    "\n",
    "    P = cvxopt.matrix(np.zeros([n_samples, n_samples]))\n",
    "    for i in range(n_samples):\n",
    "        for j in range(n_samples):\n",
    "            # kernel function can be changed\n",
    "            x_ij = np.inner(X[i], X[j])\n",
    "            y_ij = y[i] * y[j]\n",
    "            P[i, j] = x_ij * y_ij\n",
    "    q = cvxopt.matrix(np.ones([n_samples, 1]) * -1)\n",
    "\n",
    "    G = cvxopt.matrix(np.diag(np.ones(n_samples) * -1))\n",
    "    h = cvxopt.matrix(np.zeros(n_samples))\n",
    "\n",
    "    A = cvxopt.matrix(y, (1, n_samples))\n",
    "    b = cvxopt.matrix(0.0)\n",
    "    return P, q, G, h, A, b\n",
    "\n",
    "P, q, G, h, A, b = svm2qp(data_x, data_y)\n",
    "solution = cvxopt.solvers.qp(P, q, G, h, A, b)"
   ]
  },
  {
   "cell_type": "markdown",
   "metadata": {},
   "source": [
    "#### 3. Get support vector and paramters of separate line from sovled solution"
   ]
  },
  {
   "cell_type": "code",
   "execution_count": 3,
   "metadata": {},
   "outputs": [
    {
     "data": {
      "image/png": "[encoded data removed]",
      "text/plain": [
       "<matplotlib.figure.Figure at 0x11259a898>"
      ]
     },
     "metadata": {},
     "output_type": "display_data"
    }
   ],
   "source": [
    "def get_w_and_b(solution):\n",
    "    # get separate hyperplane parameters (w and b)\n",
    "    alpha = np.ravel(solution['x'])\n",
    "    # get support vector index\n",
    "    # if alpha is greater than 1e-5, we think it as a support vector\n",
    "    index = np.arange(len(alpha))[alpha > 1e-5]\n",
    "    sa = alpha[index].reshape(-1, 1)\n",
    "    sv = data_x[index]\n",
    "    sv_y = data_y[index].reshape(-1, 1)\n",
    "\n",
    "    # reference from cs229-note3, as equation(9)\n",
    "    w = np.sum(sa * sv_y * sv, axis=0)\n",
    "\n",
    "    # reference from cs229-note3, as equation(11)\n",
    "    b_pos = []\n",
    "    b_neg = []\n",
    "    for i in range(len(index)):\n",
    "        if sv_y[i] == 1:\n",
    "            b_pos.append(np.dot(w, sv[i]))\n",
    "        elif sv_y[i] == -1:\n",
    "            b_neg.append(np.dot(w, sv[i]))\n",
    "    b = -0.5 * (np.mean(b_pos) + np.mean(b_neg))\n",
    "    return w, b\n",
    "\n",
    "\n",
    "def draw_separate_line(w, b):\n",
    "    ax = plt.gca()\n",
    "    x_min, x_max = ax.get_xbound()\n",
    "    k_ = -w[0] / w[1]\n",
    "    b_ = -b / w[1]\n",
    "    y_min = k_ * x_min + b_\n",
    "    y_max = k_ * x_max + b_\n",
    "    ax.plot([x_min, x_max], [y_min, y_max], c='cyan')\n",
    "\n",
    "w, b = get_w_and_b(solution)\n",
    "\n",
    "plt.scatter(data1[:, 0], data1[:, 1])\n",
    "plt.scatter(data2[:, 0], data2[:, 1])\n",
    "draw_separate_line(w, b)"
   ]
  }
 ],
 "metadata": {
  "kernelspec": {
   "display_name": "Python 3",
   "language": "python",
   "name": "python3"
  },
  "language_info": {
   "codemirror_mode": {
    "name": "ipython",
    "version": 3
   },
   "file_extension": ".py",
   "mimetype": "text/x-python",
   "name": "python",
   "nbconvert_exporter": "python",
   "pygments_lexer": "ipython3",
   "version": "3.6.4"
  }
 },
 "nbformat": 4,
 "nbformat_minor": 2
}
